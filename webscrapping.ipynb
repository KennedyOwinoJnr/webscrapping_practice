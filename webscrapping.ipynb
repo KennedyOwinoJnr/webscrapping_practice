{
 "cells": [
  {
   "cell_type": "code",
   "execution_count": 1,
   "metadata": {},
   "outputs": [],
   "source": [
    "from bs4 import BeautifulSoup\n",
    "import requests\n",
    "import re\n",
    "import pandas as pd"
   ]
  },
  {
   "cell_type": "code",
   "execution_count": 2,
   "metadata": {},
   "outputs": [],
   "source": [
    "landingPage = 'https://books.toscrape.com'\n",
    "\n",
    "# Get response from website\n",
    "response = requests.get(url=landingPage)"
   ]
  },
  {
   "cell_type": "code",
   "execution_count": 3,
   "metadata": {},
   "outputs": [
    {
     "data": {
      "text/plain": [
       "['_content',\n",
       " 'status_code',\n",
       " 'headers',\n",
       " 'url',\n",
       " 'history',\n",
       " 'encoding',\n",
       " 'reason',\n",
       " 'cookies',\n",
       " 'elapsed',\n",
       " 'request']"
      ]
     },
     "execution_count": 3,
     "metadata": {},
     "output_type": "execute_result"
    }
   ],
   "source": [
    "# View all attributes of the response\n",
    "response.__attrs__"
   ]
  },
  {
   "cell_type": "code",
   "execution_count": 4,
   "metadata": {},
   "outputs": [
    {
     "data": {
      "text/plain": [
       "200"
      ]
     },
     "execution_count": 4,
     "metadata": {},
     "output_type": "execute_result"
    }
   ],
   "source": [
    "# What is the status code?\n",
    "response.status_code"
   ]
  },
  {
   "cell_type": "code",
   "execution_count": 5,
   "metadata": {},
   "outputs": [],
   "source": [
    "# Creating a soup from the content \n",
    "soup = BeautifulSoup(markup=response.content, \n",
    "              features='html.parser')"
   ]
  },
  {
   "cell_type": "code",
   "execution_count": 6,
   "metadata": {},
   "outputs": [],
   "source": [
    "bookList = soup.find(name='ol', attrs={'class': 'row'})\\\n",
    "                .findAll(name='li', attrs={'class': \"col-xs-6 col-sm-4 col-md-3 col-lg-3\"})"
   ]
  },
  {
   "cell_type": "code",
   "execution_count": 7,
   "metadata": {},
   "outputs": [
    {
     "data": {
      "text/plain": [
       "<li class=\"col-xs-6 col-sm-4 col-md-3 col-lg-3\">\n",
       "<article class=\"product_pod\">\n",
       "<div class=\"image_container\">\n",
       "<a href=\"catalogue/a-light-in-the-attic_1000/index.html\"><img alt=\"A Light in the Attic\" class=\"thumbnail\" src=\"media/cache/2c/da/2cdad67c44b002e7ead0cc35693c0e8b.jpg\"/></a>\n",
       "</div>\n",
       "<p class=\"star-rating Three\">\n",
       "<i class=\"icon-star\"></i>\n",
       "<i class=\"icon-star\"></i>\n",
       "<i class=\"icon-star\"></i>\n",
       "<i class=\"icon-star\"></i>\n",
       "<i class=\"icon-star\"></i>\n",
       "</p>\n",
       "<h3><a href=\"catalogue/a-light-in-the-attic_1000/index.html\" title=\"A Light in the Attic\">A Light in the ...</a></h3>\n",
       "<div class=\"product_price\">\n",
       "<p class=\"price_color\">£51.77</p>\n",
       "<p class=\"instock availability\">\n",
       "<i class=\"icon-ok\"></i>\n",
       "    \n",
       "        In stock\n",
       "    \n",
       "</p>\n",
       "<form>\n",
       "<button class=\"btn btn-primary btn-block\" data-loading-text=\"Adding...\" type=\"submit\">Add to basket</button>\n",
       "</form>\n",
       "</div>\n",
       "</article>\n",
       "</li>"
      ]
     },
     "execution_count": 7,
     "metadata": {},
     "output_type": "execute_result"
    }
   ],
   "source": [
    "test = bookList[0]\n",
    "\n",
    "test"
   ]
  },
  {
   "cell_type": "code",
   "execution_count": 8,
   "metadata": {},
   "outputs": [],
   "source": [
    "# Grabbing the title of the book\n",
    "title = test.find(name='h3').find(name='a')['title']\n",
    "\n",
    "# Grab the price of the book\n",
    "priceInEuros = test.find(name='div', attrs={'class': 'product_price'})\\\n",
    "                    .find(name='p', attrs={'class': 'price_color'})\\\n",
    "                    .text\\\n",
    "                    .replace('£', '')\n",
    "\n",
    "# Grab the availability in store\n",
    "availability = test.find(name='div', attrs={'class': 'product_price'})\\\n",
    "                    .find(name='p', attrs={'class': 'instock availability'})\\\n",
    "                    .text\\\n",
    "                    .strip()\n",
    "\n",
    "# Extract the star rating\n",
    "rating = test.find(name='p', \n",
    "          attrs={'class': re.compile(pattern='star-rating.+')})['class'][1]"
   ]
  },
  {
   "cell_type": "code",
   "execution_count": 9,
   "metadata": {},
   "outputs": [],
   "source": [
    "df = pd.DataFrame(columns=['title', 'priceInEuros', 'availability', 'rating'])\n",
    "\n",
    "\n",
    "for idx, book in enumerate(bookList):\n",
    "    # Grab the title\n",
    "    title = book.find(name='h3').find(name='a')['title']\n",
    "    # Grab the price\n",
    "    priceInEuros = book.find(name='div', attrs={'class': 'product_price'})\\\n",
    "                    .find(name='p', attrs={'class': 'price_color'})\\\n",
    "                    .text\\\n",
    "                    .replace('£', '')\n",
    "    # Grab the availability\n",
    "    availability = book.find(name='div', attrs={'class': 'product_price'})\\\n",
    "                    .find(name='p', attrs={'class': 'instock availability'})\\\n",
    "                    .text\\\n",
    "                    .strip()\n",
    "    # Grab the rating\n",
    "    rating = book.find(name='p', \n",
    "          attrs={'class': re.compile(pattern='star-rating.+')})['class'][1]\n",
    "    \n",
    "    # Appending information to the dataframe\n",
    "    df.loc[idx] = [title, float(priceInEuros), availability, rating]"
   ]
  },
  {
   "cell_type": "code",
   "execution_count": 10,
   "metadata": {},
   "outputs": [
    {
     "data": {
      "text/html": [
       "<div>\n",
       "<style scoped>\n",
       "    .dataframe tbody tr th:only-of-type {\n",
       "        vertical-align: middle;\n",
       "    }\n",
       "\n",
       "    .dataframe tbody tr th {\n",
       "        vertical-align: top;\n",
       "    }\n",
       "\n",
       "    .dataframe thead th {\n",
       "        text-align: right;\n",
       "    }\n",
       "</style>\n",
       "<table border=\"1\" class=\"dataframe\">\n",
       "  <thead>\n",
       "    <tr style=\"text-align: right;\">\n",
       "      <th></th>\n",
       "      <th>title</th>\n",
       "      <th>priceInEuros</th>\n",
       "      <th>availability</th>\n",
       "      <th>rating</th>\n",
       "    </tr>\n",
       "  </thead>\n",
       "  <tbody>\n",
       "    <tr>\n",
       "      <th>0</th>\n",
       "      <td>A Light in the Attic</td>\n",
       "      <td>51.77</td>\n",
       "      <td>In stock</td>\n",
       "      <td>Three</td>\n",
       "    </tr>\n",
       "    <tr>\n",
       "      <th>1</th>\n",
       "      <td>Tipping the Velvet</td>\n",
       "      <td>53.74</td>\n",
       "      <td>In stock</td>\n",
       "      <td>One</td>\n",
       "    </tr>\n",
       "    <tr>\n",
       "      <th>2</th>\n",
       "      <td>Soumission</td>\n",
       "      <td>50.10</td>\n",
       "      <td>In stock</td>\n",
       "      <td>One</td>\n",
       "    </tr>\n",
       "    <tr>\n",
       "      <th>3</th>\n",
       "      <td>Sharp Objects</td>\n",
       "      <td>47.82</td>\n",
       "      <td>In stock</td>\n",
       "      <td>Four</td>\n",
       "    </tr>\n",
       "    <tr>\n",
       "      <th>4</th>\n",
       "      <td>Sapiens: A Brief History of Humankind</td>\n",
       "      <td>54.23</td>\n",
       "      <td>In stock</td>\n",
       "      <td>Five</td>\n",
       "    </tr>\n",
       "  </tbody>\n",
       "</table>\n",
       "</div>"
      ],
      "text/plain": [
       "                                   title  priceInEuros availability rating\n",
       "0                   A Light in the Attic         51.77     In stock  Three\n",
       "1                     Tipping the Velvet         53.74     In stock    One\n",
       "2                             Soumission         50.10     In stock    One\n",
       "3                          Sharp Objects         47.82     In stock   Four\n",
       "4  Sapiens: A Brief History of Humankind         54.23     In stock   Five"
      ]
     },
     "execution_count": 10,
     "metadata": {},
     "output_type": "execute_result"
    }
   ],
   "source": [
    "df.head()"
   ]
  },
  {
   "cell_type": "markdown",
   "metadata": {},
   "source": [
    "## Incorporate Pagination"
   ]
  },
  {
   "cell_type": "code",
   "execution_count": 17,
   "metadata": {},
   "outputs": [],
   "source": [
    "pagesScrapped = 1\n",
    "df = pd.DataFrame(columns=['title', 'priceInEuros', 'availability', 'rating'])\n",
    "landingPage = 'https://books.toscrape.com/'\n",
    "url = landingPage\n",
    "listOfDfs = []\n",
    "\n",
    "while pagesScrapped <= 48:\n",
    "    # For each page, make a request\n",
    "    response = requests.get(url=url)\n",
    "\n",
    "    # Create a soup\n",
    "    soup = BeautifulSoup(markup=response.content,\n",
    "                         features='html.parser')\n",
    "\n",
    "    # Extract the list of books\n",
    "    bookList = soup.find(name='ol', attrs={'class': 'row'})\\\n",
    "                .findAll(name='li', attrs={'class': \"col-xs-6 col-sm-4 col-md-3 col-lg-3\"})\n",
    "\n",
    "    for idx, book in enumerate(bookList):\n",
    "        # Grab the title\n",
    "        title = book.find(name='h3').find(name='a')['title']\n",
    "        # Grab the price\n",
    "        priceInEuros = book.find(name='div', attrs={'class': 'product_price'})\\\n",
    "                        .find(name='p', attrs={'class': 'price_color'})\\\n",
    "                        .text\\\n",
    "                        .replace('£', '')\n",
    "        # Grab the availability\n",
    "        availability = book.find(name='div', attrs={'class': 'product_price'})\\\n",
    "                        .find(name='p', attrs={'class': 'instock availability'})\\\n",
    "                        .text\\\n",
    "                        .strip()\n",
    "        # Grab the rating\n",
    "        rating = book.find(name='p', \n",
    "            attrs={'class': re.compile(pattern='star-rating.+')})['class'][1]\n",
    "        \n",
    "        # Appending information to the dataframe\n",
    "        df.loc[idx] = [title, float(priceInEuros), availability, rating]\n",
    "    \n",
    "    # Store the pages info in a list of dataframes\n",
    "    listOfDfs.append(df)\n",
    "\n",
    "\n",
    "    # Get the url for the next page\n",
    "    nextPageUrl = soup.find(name='li', attrs={'class': 'next'})\\\n",
    "                        .find(name='a')['href']\n",
    "    \n",
    "    # Update url \n",
    "    if pagesScrapped >= 2:\n",
    "        url = landingPage + 'catalogue/' + nextPageUrl\n",
    "    else:\n",
    "        url = landingPage + nextPageUrl\n",
    "\n",
    "    # Update control variable\n",
    "    pagesScrapped += 1\n",
    "\n",
    "df = pd.concat(listOfDfs)"
   ]
  },
  {
   "cell_type": "code",
   "execution_count": 19,
   "metadata": {},
   "outputs": [
    {
     "data": {
      "text/plain": [
       "(960, 4)"
      ]
     },
     "execution_count": 19,
     "metadata": {},
     "output_type": "execute_result"
    }
   ],
   "source": [
    "df.shape"
   ]
  },
  {
   "cell_type": "code",
   "execution_count": 23,
   "metadata": {},
   "outputs": [
    {
     "data": {
      "text/html": [
       "<div>\n",
       "<style scoped>\n",
       "    .dataframe tbody tr th:only-of-type {\n",
       "        vertical-align: middle;\n",
       "    }\n",
       "\n",
       "    .dataframe tbody tr th {\n",
       "        vertical-align: top;\n",
       "    }\n",
       "\n",
       "    .dataframe thead th {\n",
       "        text-align: right;\n",
       "    }\n",
       "</style>\n",
       "<table border=\"1\" class=\"dataframe\">\n",
       "  <thead>\n",
       "    <tr style=\"text-align: right;\">\n",
       "      <th></th>\n",
       "      <th>title</th>\n",
       "      <th>priceInEuros</th>\n",
       "      <th>availability</th>\n",
       "      <th>rating</th>\n",
       "    </tr>\n",
       "  </thead>\n",
       "  <tbody>\n",
       "    <tr>\n",
       "      <th>0</th>\n",
       "      <td>The Bhagavad Gita</td>\n",
       "      <td>57.49</td>\n",
       "      <td>In stock</td>\n",
       "      <td>Three</td>\n",
       "    </tr>\n",
       "    <tr>\n",
       "      <th>1</th>\n",
       "      <td>The Bette Davis Club</td>\n",
       "      <td>30.66</td>\n",
       "      <td>In stock</td>\n",
       "      <td>Three</td>\n",
       "    </tr>\n",
       "    <tr>\n",
       "      <th>2</th>\n",
       "      <td>The Art of Not Breathing</td>\n",
       "      <td>40.83</td>\n",
       "      <td>In stock</td>\n",
       "      <td>Four</td>\n",
       "    </tr>\n",
       "    <tr>\n",
       "      <th>3</th>\n",
       "      <td>Taking Shots (Assassins #1)</td>\n",
       "      <td>18.88</td>\n",
       "      <td>In stock</td>\n",
       "      <td>Two</td>\n",
       "    </tr>\n",
       "    <tr>\n",
       "      <th>4</th>\n",
       "      <td>Starlark</td>\n",
       "      <td>25.83</td>\n",
       "      <td>In stock</td>\n",
       "      <td>Three</td>\n",
       "    </tr>\n",
       "  </tbody>\n",
       "</table>\n",
       "</div>"
      ],
      "text/plain": [
       "                         title  priceInEuros availability rating\n",
       "0            The Bhagavad Gita         57.49     In stock  Three\n",
       "1         The Bette Davis Club         30.66     In stock  Three\n",
       "2     The Art of Not Breathing         40.83     In stock   Four\n",
       "3  Taking Shots (Assassins #1)         18.88     In stock    Two\n",
       "4                     Starlark         25.83     In stock  Three"
      ]
     },
     "execution_count": 23,
     "metadata": {},
     "output_type": "execute_result"
    }
   ],
   "source": [
    "df.head()"
   ]
  },
  {
   "cell_type": "code",
   "execution_count": 24,
   "metadata": {},
   "outputs": [],
   "source": [
    "rating_dict = {'One': 1,\n",
    "               'Two':2,\n",
    "               'Three': 3,\n",
    "               'Four':4,\n",
    "               'Five':5}"
   ]
  },
  {
   "cell_type": "code",
   "execution_count": 27,
   "metadata": {},
   "outputs": [],
   "source": [
    "df['rating'] = df['rating'].replace(rating_dict)"
   ]
  }
 ],
 "metadata": {
  "kernelspec": {
   "display_name": "learn-env",
   "language": "python",
   "name": "python3"
  },
  "language_info": {
   "codemirror_mode": {
    "name": "ipython",
    "version": 3
   },
   "file_extension": ".py",
   "mimetype": "text/x-python",
   "name": "python",
   "nbconvert_exporter": "python",
   "pygments_lexer": "ipython3",
   "version": "3.10.13"
  }
 },
 "nbformat": 4,
 "nbformat_minor": 2
}
